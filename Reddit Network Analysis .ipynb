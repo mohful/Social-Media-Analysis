{
 "cells": [
  {
   "cell_type": "code",
   "execution_count": 1,
   "id": "23048e92",
   "metadata": {},
   "outputs": [
    {
     "name": "stdout",
     "output_type": "stream",
     "text": [
      "Collecting snap-stanford\n",
      "  Downloading snap_stanford-6.0.0-cp38-cp38-win_amd64.whl (9.2 MB)\n",
      "     ---------------------------------------- 9.2/9.2 MB 1.4 MB/s eta 0:00:00\n",
      "Installing collected packages: snap-stanford\n",
      "Successfully installed snap-stanford-6.0.0\n",
      "Note: you may need to restart the kernel to use updated packages.\n"
     ]
    },
    {
     "name": "stderr",
     "output_type": "stream",
     "text": [
      "WARNING: Ignoring invalid distribution -etworkx (c:\\users\\anika\\anaconda3\\lib\\site-packages)\n",
      "WARNING: Ignoring invalid distribution -etworkx (c:\\users\\anika\\anaconda3\\lib\\site-packages)\n",
      "WARNING: Ignoring invalid distribution -etworkx (c:\\users\\anika\\anaconda3\\lib\\site-packages)\n",
      "WARNING: Ignoring invalid distribution -etworkx (c:\\users\\anika\\anaconda3\\lib\\site-packages)\n",
      "WARNING: Ignoring invalid distribution -etworkx (c:\\users\\anika\\anaconda3\\lib\\site-packages)\n",
      "WARNING: Ignoring invalid distribution -etworkx (c:\\users\\anika\\anaconda3\\lib\\site-packages)\n",
      "WARNING: Ignoring invalid distribution -etworkx (c:\\users\\anika\\anaconda3\\lib\\site-packages)\n"
     ]
    }
   ],
   "source": [
    "pip install snap-stanford"
   ]
  },
  {
   "cell_type": "code",
   "execution_count": 2,
   "id": "3e945b20",
   "metadata": {},
   "outputs": [],
   "source": [
    "import snap\n",
    "import pandas as pd\n",
    "from datetime import datetime"
   ]
  },
  {
   "cell_type": "code",
   "execution_count": 6,
   "id": "d50fb15c",
   "metadata": {},
   "outputs": [],
   "source": [
    "file_path = \"soc-redditHyperlinks-body.tsv\"\n",
    "df = pd.read_csv(file_path, sep='\\t')\n",
    "\n",
    "def preprocess_data(df):\n",
    "    # Convert TIMESTAMP column to datetime format\n",
    "    df['TIMESTAMP'] = pd.to_datetime(df['TIMESTAMP'])\n",
    "\n",
    "    # Create a new column for the year\n",
    "    df['Year'] = df['TIMESTAMP'].dt.year\n",
    "\n",
    "    return df"
   ]
  },
  {
   "cell_type": "code",
   "execution_count": 18,
   "id": "8a439e8a",
   "metadata": {},
   "outputs": [],
   "source": [
    "def preprocess_data(df):\n",
    "    # Convert TIMESTAMP column to datetime format\n",
    "    df['TIMESTAMP'] = pd.to_datetime(df['TIMESTAMP'])\n",
    "\n",
    "    # Create a new column for the year\n",
    "    df['Year'] = df['TIMESTAMP'].dt.year\n",
    "\n",
    "    return df\n",
    "\n",
    "def create_graph(df, year):\n",
    "    # Filter data for the specified year\n",
    "    year_df = df[df['Year'] == year]\n",
    "\n",
    "    # Create a directed graph\n",
    "    G = snap.TNGraph.New()\n",
    "\n",
    "    # Add nodes and edges to the graph\n",
    "    for index, row in year_df.iterrows():\n",
    "        source_node = row['SOURCE_SUBREDDIT']\n",
    "        target_node = row['TARGET_SUBREDDIT']\n",
    "        \n",
    "        # Convert node IDs to integers. Hashfunction handles large integer values\n",
    "        source_node_id = hash(source_node) % (2**31 - 1)\n",
    "        target_node_id = hash(target_node) % (2**31 - 1)\n",
    "\n",
    "      # Add nodes if not already present\n",
    "        if not G.IsNode(int(source_node_id)):\n",
    "            G.AddNode(int(source_node_id))\n",
    "        if not G.IsNode(int(target_node_id)):\n",
    "            G.AddNode(int(target_node_id))\n",
    "\n",
    "        # Add directed edge\n",
    "        G.AddEdge(int(source_node_id), int(target_node_id))\n",
    "\n",
    "    return G\n",
    "\n",
    "# Preprocess data\n",
    "df = preprocess_data(df)\n",
    "\n",
    "# Specify the range of years in your dataset\n",
    "start_year = 2014\n",
    "end_year = 2017\n",
    "\n",
    "\n",
    "for year in range(start_year, end_year + 1):\n",
    "    # Create a graph for the specified year\n",
    "    graph = create_graph(df, year)\n",
    "    \n",
    "    # Save the graph to a file (optional)\n",
    "    snap.SaveEdgeList(graph, f\"graph_{year}.txt\", \"Graph for Year \" + str(year))"
   ]
  },
  {
   "cell_type": "code",
   "execution_count": 22,
   "id": "930da57b",
   "metadata": {},
   "outputs": [],
   "source": [
    "# PRUNING\n",
    "\n",
    "import snap\n",
    "import numpy as np\n",
    "\n",
    "# Function to prune the graph based on degree distribution\n",
    "def prune_graph(graph, percentile):\n",
    "    # Get the degrees of all nodes in the graph\n",
    "    degrees = [node.GetOutDeg() for node in graph.Nodes()]\n",
    "    \n",
    "    # Calculate the threshold based on the specified percentile\n",
    "    threshold = np.percentile(degrees, percentile)\n",
    "    \n",
    "    # Identify nodes to remove based on the threshold\n",
    "    nodes_to_remove = [node.GetId() for node in graph.Nodes() if node.GetOutDeg() < threshold]\n",
    "    \n",
    "    # Remove identified nodes\n",
    "    for node_id in nodes_to_remove:\n",
    "        graph.DelNode(node_id)\n",
    "    \n",
    "    return graph\n",
    "\n",
    "# Function to load graph from edge list text file\n",
    "\n",
    "def load_graph_from_edge_list(file_path):\n",
    "    # Create an empty directed graph\n",
    "    graph = snap.TNGraph.New()\n",
    "    \n",
    "    # Load edges from the text file\n",
    "    with open(file_path, 'r') as file:\n",
    "        for line in file:\n",
    "            # Skip lines starting with '#'\n",
    "            if line.startswith('#'):\n",
    "                continue\n",
    "            \n",
    "            source_node, target_node = map(int, line.strip().split('\\t'))\n",
    "            \n",
    "            # Add nodes if not already present\n",
    "            if not graph.IsNode(source_node):\n",
    "                graph.AddNode(source_node)\n",
    "            if not graph.IsNode(target_node):\n",
    "                graph.AddNode(target_node)\n",
    "            \n",
    "            # Add directed edge\n",
    "            graph.AddEdge(source_node, target_node)\n",
    "    \n",
    "    return graph\n",
    "\n",
    "\n",
    "# Prune graphs for each year\n",
    "pruned_graphs = {}\n",
    "for year in range(start_year, end_year + 1):\n",
    "    # Load the graph from the edge list file\n",
    "    file_path = f\"graph_{year}.txt\"\n",
    "    graph = load_graph_from_edge_list(file_path)\n",
    "    \n",
    "    # Prune the graph - 5th percentile threshold\n",
    "    pruned_graph = prune_graph(graph, 5)  \n",
    "    pruned_graphs[year] = pruned_graph"
   ]
  },
  {
   "cell_type": "code",
   "execution_count": null,
   "id": "f9774cd4",
   "metadata": {},
   "outputs": [],
   "source": []
  }
 ],
 "metadata": {
  "kernelspec": {
   "display_name": "Python 3 (ipykernel)",
   "language": "python",
   "name": "python3"
  },
  "language_info": {
   "codemirror_mode": {
    "name": "ipython",
    "version": 3
   },
   "file_extension": ".py",
   "mimetype": "text/x-python",
   "name": "python",
   "nbconvert_exporter": "python",
   "pygments_lexer": "ipython3",
   "version": "3.8.8"
  }
 },
 "nbformat": 4,
 "nbformat_minor": 5
}
