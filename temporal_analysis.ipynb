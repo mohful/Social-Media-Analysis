{
 "cells": [
  {
   "cell_type": "code",
   "execution_count": 1,
   "id": "17ccd832",
   "metadata": {},
   "outputs": [
    {
     "name": "stdout",
     "output_type": "stream",
     "text": [
      "Requirement already satisfied: pandas in c:\\users\\stani\\anaconda3\\lib\\site-packages (1.5.3)\n",
      "Requirement already satisfied: networkx in c:\\users\\stani\\anaconda3\\lib\\site-packages (3.2.1)\n",
      "Requirement already satisfied: python-dateutil>=2.8.1 in c:\\users\\stani\\anaconda3\\lib\\site-packages (from pandas) (2.8.2)\n",
      "Requirement already satisfied: pytz>=2020.1 in c:\\users\\stani\\anaconda3\\lib\\site-packages (from pandas) (2022.7)\n",
      "Requirement already satisfied: numpy>=1.21.0 in c:\\users\\stani\\anaconda3\\lib\\site-packages (from pandas) (1.26.0)\n",
      "Requirement already satisfied: six>=1.5 in c:\\users\\stani\\anaconda3\\lib\\site-packages (from python-dateutil>=2.8.1->pandas) (1.16.0)\n"
     ]
    }
   ],
   "source": [
    "!pip install pandas networkx"
   ]
  },
  {
   "cell_type": "code",
   "execution_count": 86,
   "id": "346bbae1",
   "metadata": {},
   "outputs": [],
   "source": [
    "import pandas as pd\n",
    "import networkx as nx\n",
    "import re"
   ]
  },
  {
   "cell_type": "code",
   "execution_count": 54,
   "id": "e056c719",
   "metadata": {},
   "outputs": [],
   "source": [
    "sentiments_raw = pd.read_csv('edge_sentiments.txt', header=None)"
   ]
  },
  {
   "cell_type": "code",
   "execution_count": 76,
   "id": "41358e13",
   "metadata": {},
   "outputs": [
    {
     "name": "stdout",
     "output_type": "stream",
     "text": [
      "  source_post dest_post  sentiment\n",
      "0      1u4nrp    1u4lo2          1\n",
      "1      1u4qkd    1u4muc          1\n",
      "2      1u4qlz    1u4pss          1\n",
      "3      1u4sjv    1u4mjo          1\n",
      "4      1u4w5s    1u54ij          1\n"
     ]
    }
   ],
   "source": [
    "def preprocess_sentiment(sentiment):\n",
    "    sentiment = sentiment[len(\"Sentiment: \"):].strip()\n",
    "    return 1 if sentiment == \"non-burst\" else -1\n",
    "\n",
    "sentiments = pd.DataFrame(columns=[\"source_post\", \"dest_post\", \"sentiment\"])\n",
    "sentiments.iloc[:, 0] = sentiments_raw.iloc[:, 0].apply(lambda val: val[len(\"From Post: \"):].strip())\n",
    "sentiments.iloc[:, 1] = sentiments_raw.iloc[:, 1].apply(lambda val: val[len(\"To Post: \"):].strip())\n",
    "sentiments[sentiments.columns[2]] = sentiments_raw.iloc[:, 2].apply(preprocess_sentiment)\n",
    "print(sentiments.head())\n",
    "# Create a directed graph with sentiment as an edge attribute\n",
    "posts_graph = nx.from_pandas_edgelist(sentiments, 'source_post', 'dest_post', create_using=nx.DiGraph, edge_attr='sentiment')\n",
    "\n",
    "# # Check if the edge \"1u4nrp\" -> \"1u4lo2\" exists in the graph\n",
    "# src = \"1u4nrp\"\n",
    "# dst = \"1u4lo2\"\n",
    "# if posts_graph.has_edge(src, dst):\n",
    "#     print(f\"The edge '{src}' -> '{dst}' exists with sentiment: {posts_graph[src][dst]['sentiment']}\")\n",
    "# else:\n",
    "#     print(f\"The edge '{src}' -> '{dst}' does not exist in the graph.\")"
   ]
  },
  {
   "cell_type": "code",
   "execution_count": 134,
   "id": "ff2e8c9a",
   "metadata": {},
   "outputs": [],
   "source": [
    "def create_dataframe_from_file(file_name):\n",
    "    # Read the file and split lines\n",
    "    with open(file_name, 'r') as file:\n",
    "        lines = file.readlines()\n",
    "\n",
    "    # Extract data and create a DataFrame\n",
    "    rows = [line.replace(\"\\t\", \" \").replace('\"', '').replace(',','').replace(\"'\", '').replace(\")\", '').replace(\"(\", '').replace('\\n', '').split(\" \") for line in lines]\n",
    "    df = pd.DataFrame(rows, columns=['source_post', 'dest_post', 'sentiment'])\n",
    "\n",
    "    # Convert sentiment to integer\n",
    "    df['sentiment'] = df['sentiment'].map({'non-burst': 1, 'burst': 0})\n",
    "\n",
    "    return df"
   ]
  },
  {
   "cell_type": "code",
   "execution_count": 136,
   "id": "6e96b6da",
   "metadata": {},
   "outputs": [
    {
     "name": "stdout",
     "output_type": "stream",
     "text": [
      "  source_post dest_post  sentiment\n",
      "0      2vjbm2    2m13kx          1\n",
      "1      3zagiy    2uf8t2          1\n",
      "2      5yoid6    4i76wl          1\n",
      "3      39rq01    3b41ta          1\n",
      "4      4jp1x6    4jlea9          1\n",
      "source_post    4hlaja\n",
      "dest_post      4h44gb\n",
      "sentiment           1\n",
      "Name: 155934, dtype: object\n"
     ]
    }
   ],
   "source": [
    "sentiments_raw = create_dataframe_from_file('label_info.tsv')\n",
    "print(sentiments_raw.head())\n",
    "print(sentiments_raw.iloc[155934])"
   ]
  },
  {
   "cell_type": "code",
   "execution_count": 137,
   "id": "e8e1af15",
   "metadata": {},
   "outputs": [],
   "source": [
    "posts_graph = nx.from_pandas_edgelist(sentiments_raw, 'source_post', 'dest_post', create_using=nx.DiGraph, edge_attr='sentiment')"
   ]
  },
  {
   "cell_type": "code",
   "execution_count": 30,
   "id": "3777f0f3",
   "metadata": {},
   "outputs": [],
   "source": [
    "def create_graph_from_file(file_name):\n",
    "    # Read the text file into a DataFrame, skipping the first four rows\n",
    "    df = pd.read_csv(file_name, skiprows=4, delimiter='\\t', header=None)\n",
    "\n",
    "    # Create column names \"source\" and \"dest\"\n",
    "    df.columns = [\"source_subreddit\", \"dest_subreddit\"]\n",
    "\n",
    "    # Create a directed graph from the DataFrame\n",
    "    G = nx.from_pandas_edgelist(df, 'source_subreddit', 'dest_subreddit', create_using=nx.DiGraph)\n",
    "    return G"
   ]
  },
  {
   "cell_type": "code",
   "execution_count": 39,
   "id": "8a4d1c44",
   "metadata": {},
   "outputs": [],
   "source": [
    "yearly_graphs = {}\n",
    "for year in [2014, 2015, 2016, 2017]:\n",
    "    yearly_graphs[year] = create_graph_from_file(f\"pruned_graph_{year}.txt\")"
   ]
  },
  {
   "cell_type": "code",
   "execution_count": 40,
   "id": "9f9c4dee",
   "metadata": {},
   "outputs": [
    {
     "ename": "ValueError",
     "evalue": "Edge (1212297454, 1026390623) doesn't exist in the 'sentiments' DataFrame!",
     "output_type": "error",
     "traceback": [
      "\u001b[1;31m---------------------------------------------------------------------------\u001b[0m",
      "\u001b[1;31mValueError\u001b[0m                                Traceback (most recent call last)",
      "Cell \u001b[1;32mIn[40], line 13\u001b[0m\n\u001b[0;32m     10\u001b[0m         graph[source][dest][\u001b[38;5;124m'\u001b[39m\u001b[38;5;124msentiment\u001b[39m\u001b[38;5;124m'\u001b[39m] \u001b[38;5;241m=\u001b[39m sentiment\n\u001b[0;32m     11\u001b[0m     \u001b[38;5;28;01melse\u001b[39;00m:\n\u001b[0;32m     12\u001b[0m         \u001b[38;5;66;03m# Edge doesn't exist in the DataFrame, raise an error or handle it as needed\u001b[39;00m\n\u001b[1;32m---> 13\u001b[0m         \u001b[38;5;28;01mraise\u001b[39;00m \u001b[38;5;167;01mValueError\u001b[39;00m(\u001b[38;5;124mf\u001b[39m\u001b[38;5;124m\"\u001b[39m\u001b[38;5;124mEdge (\u001b[39m\u001b[38;5;132;01m{\u001b[39;00msource\u001b[38;5;132;01m}\u001b[39;00m\u001b[38;5;124m, \u001b[39m\u001b[38;5;132;01m{\u001b[39;00mdest\u001b[38;5;132;01m}\u001b[39;00m\u001b[38;5;124m) doesn\u001b[39m\u001b[38;5;124m'\u001b[39m\u001b[38;5;124mt exist in the \u001b[39m\u001b[38;5;124m'\u001b[39m\u001b[38;5;124msentiments\u001b[39m\u001b[38;5;124m'\u001b[39m\u001b[38;5;124m DataFrame!\u001b[39m\u001b[38;5;124m\"\u001b[39m)\n\u001b[0;32m     15\u001b[0m \u001b[38;5;66;03m# Now 'graph' has updated 'sentiment' attributes for existing edges in 'sentiments'\u001b[39;00m\n",
      "\u001b[1;31mValueError\u001b[0m: Edge (1212297454, 1026390623) doesn't exist in the 'sentiments' DataFrame!"
     ]
    }
   ],
   "source": [
    "# Update edge attributes in the graph based on 'sentiments'\n",
    "for edge in graph.edges:\n",
    "    source, dest = edge\n",
    "\n",
    "    # Check if the edge exists in the 'sentiments' DataFrame\n",
    "    mask = (sentiments['source'] == source) & (sentiments['dest'] == dest)\n",
    "    if not sentiments[mask].empty:\n",
    "        # Edge exists, update the 'sentiment' attribute\n",
    "        sentiment = sentiments.loc[mask, 'sentiment'].values[0]\n",
    "        graph[source][dest]['sentiment'] = sentiment\n",
    "    else:\n",
    "        # Edge doesn't exist in the DataFrame, raise an error or handle it as needed\n",
    "        raise ValueError(f\"Edge ({source}, {dest}) doesn't exist in the 'sentiments' DataFrame!\")\n",
    "\n",
    "# Now 'graph' has updated 'sentiment' attributes for existing edges in 'sentiments'"
   ]
  },
  {
   "cell_type": "code",
   "execution_count": 51,
   "id": "0a0823e2",
   "metadata": {},
   "outputs": [],
   "source": [
    "def read_data(file_path):\n",
    "    return pd.read_csv(file_path, parse_dates=[3, 7], sep=' ', header=None,\n",
    "                       names=[\"source_subreddit\", \"dest_subreddit\", \"source_post_id\",\n",
    "                              \"source_post_date\", \"source_post_time\", \"user\",\n",
    "                              \"dest_post_id\", \"dest_post_date\", \"dest_post_time\", \"sentiment\"])\n",
    "\n",
    "def create_graph(df):\n",
    "    G = nx.MultiDiGraph()\n",
    "    for index, row in df.iterrows():\n",
    "        G.add_edge(row['source_subreddit'], row['dest_subreddit'],\n",
    "                   source_post_id=row['source_post_id'],\n",
    "                   dest_post_id=row['dest_post_id'])\n",
    "    return G\n",
    "\n",
    "def process_and_save_graphs(file_path):\n",
    "    df = read_data(file_path)\n",
    "\n",
    "    # Create a dictionary to store graphs for each year\n",
    "    graphs_by_year = {}\n",
    "\n",
    "    # Iterate over unique years in the data\n",
    "    for year in df['source_post_date'].dt.year.unique():\n",
    "        # Filter DataFrame for the current year\n",
    "        year_df = df[df['source_post_date'].dt.year == year]\n",
    "\n",
    "        # Create a graph\n",
    "        G = create_graph(year_df)\n",
    "\n",
    "        # Store the graph in the dictionary\n",
    "        graphs_by_year[year] = G\n",
    "\n",
    "        # Save the DataFrame to a CSV file\n",
    "        year_df.to_csv(f'subreddit_graph_{year}.csv', index=False)\n",
    "\n",
    "    return graphs_by_year\n",
    "\n",
    "def print_edge_attributes(graph, source_subreddit, dest_subreddit):\n",
    "    # Check if there's at least one edge between the source and destination nodes\n",
    "    if graph.has_edge(source_subreddit, dest_subreddit):\n",
    "        # Get all edges between the source and destination nodes\n",
    "        edges = graph.out_edges(source_subreddit, dest_subreddit, keys=True)\n",
    "\n",
    "        # Print edge attributes\n",
    "        for edge in edges:\n",
    "            source_post_id = graph[edge[0]][edge[1]][edge[2]]['source_post_id']\n",
    "            dest_post_id = graph[edge[0]][edge[1]][edge[2]]['dest_post_id']\n",
    "\n",
    "            print(f\"Edge: {source_subreddit} -> {dest_subreddit}\")\n",
    "            print(f\"  source_post_id: {source_post_id}\")\n",
    "            print(f\"  dest_post_id: {dest_post_id}\")\n",
    "            print(\"----------------------\")\n",
    "    else:\n",
    "        print(f\"No edge found between {source_subreddit} and {dest_subreddit}\")"
   ]
  },
  {
   "cell_type": "code",
   "execution_count": 150,
   "id": "c88f1b6a",
   "metadata": {},
   "outputs": [],
   "source": [
    "def add_sentiment_column(file_path, save_path):\n",
    "    # add sentiment data to file\n",
    "    data_without_sentiment = pd.read_csv(file_path, parse_dates=[3, 7], sep=' ', header=None,\n",
    "                           names=[\"source_subreddit\", \"dest_subreddit\", \"source_post_id\",\n",
    "                                  \"source_post_date\", \"source_post_time\", \"user\",\n",
    "                                  \"dest_post_id\", \"dest_post_date\", \"dest_post_time\"])\n",
    "\n",
    "    sentiments = []  # List to store sentiments\n",
    "\n",
    "    for index, row in data_without_sentiment.iterrows():\n",
    "        source_post_id = row[\"source_post_id\"]\n",
    "        dest_post_id = row[\"dest_post_id\"]\n",
    "        if posts_graph.has_edge(source_post_id, dest_post_id):\n",
    "            sentiment = posts_graph[source_post_id][dest_post_id]['sentiment']\n",
    "            sentiments.append(sentiment)\n",
    "        else:\n",
    "            raise Exception(f\"No edge found between {source_post_id} and {dest_post_id}\")\n",
    "\n",
    "    # Add the 'sentiment' column to the DataFrame\n",
    "    data_without_sentiment['sentiment'] = sentiments\n",
    "\n",
    "    # Save the DataFrame to a TSV file\n",
    "    data_without_sentiment.to_csv(save_path, index=False, sep=' ')"
   ]
  },
  {
   "cell_type": "code",
   "execution_count": 151,
   "id": "dd05daf8",
   "metadata": {},
   "outputs": [],
   "source": [
    "data_file = \"formatted_data_file.txt\"\n",
    "add_sentiment_column(data_file, \"formatted_data_file_with_sentimemnt.txt\")"
   ]
  },
  {
   "cell_type": "code",
   "execution_count": null,
   "id": "59df402b",
   "metadata": {},
   "outputs": [],
   "source": [
    "graphs_by_year = process_and_save_graphs(data_file)"
   ]
  },
  {
   "cell_type": "code",
   "execution_count": 78,
   "id": "41b33024",
   "metadata": {},
   "outputs": [],
   "source": [
    "# print_edge_attributes(graphs_by_year[2014], \"leagueoflegends\", \"teamredditteams\")"
   ]
  },
  {
   "cell_type": "code",
   "execution_count": null,
   "id": "31fbba04",
   "metadata": {},
   "outputs": [],
   "source": []
  }
 ],
 "metadata": {
  "kernelspec": {
   "display_name": "Python 3 (ipykernel)",
   "language": "python",
   "name": "python3"
  },
  "language_info": {
   "codemirror_mode": {
    "name": "ipython",
    "version": 3
   },
   "file_extension": ".py",
   "mimetype": "text/x-python",
   "name": "python",
   "nbconvert_exporter": "python",
   "pygments_lexer": "ipython3",
   "version": "3.10.9"
  }
 },
 "nbformat": 4,
 "nbformat_minor": 5
}
